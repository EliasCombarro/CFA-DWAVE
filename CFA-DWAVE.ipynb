{
 "cells": [
  {
   "cell_type": "markdown",
   "metadata": {},
   "source": [
    "# Using a D-Wave quantum computer to determine commutativity of finite-dimensional algebras\n",
    "\n",
    "In this notebook, we implement the methods described in <a href=\"https://www.researchgate.net/publication/330605396_Experiments_Testing_the_Commutativity_of_Finite-Dimensional_Algebras_with_a_Quantum_Adiabatic_Algorithm_Testing_Commutativity_FD_Algebras_with_a_QAA\">Experiments Testing the Commutativity of Finite-Dimensional Algebras with a Quantum Adiabatic Algorithm (Combarro, Ranilla, Rúa 2019)</a> to test the commutativity of finite-dimensional algebras.\n",
    "\n",
    "We provide code for the general case and then solve a simple example with both exact and heuristic classical methods and with the use of a D-Wave quantum annealer.\n",
    "\n"
   ]
  },
  {
   "cell_type": "markdown",
   "metadata": {},
   "source": [
    "First, we import all the need libraries and define a function that gives the constants matriz of random algebra with a fixed number of non-commuting pairs"
   ]
  },
  {
   "cell_type": "code",
   "execution_count": 1,
   "metadata": {
    "collapsed": true
   },
   "outputs": [],
   "source": [
    "import numpy as np\n",
    "from random import randint\n",
    "\n",
    "def randomAlgebra(m,c):\n",
    "# Returns a random algebra of size 2^m with c non-commuting pairs\n",
    "  n=2**m\n",
    "  M=np.zeros((n,n,n))\n",
    "  f=0\n",
    "  while f<c:\n",
    "    #Bucar una posicion para poner un fallo\n",
    "    i=randint(0,n-1)\n",
    "    j=i\n",
    "    while j==i:\n",
    "      j=randint(0,n-1)\n",
    "    k=randint(0,n-1)\n",
    "    if M[i,j,k]==M[j,i,k]:\n",
    "      M[i,j,k]=1\n",
    "      M[j,i,k]=0\n",
    "      f=f+1\n",
    "  return M"
   ]
  },
  {
   "cell_type": "markdown",
   "metadata": {},
   "source": [
    "This how the matrix for a simple case would look. Notice that there is exactly one case in which $M_{ijk}$ is different from $M_{jik}$"
   ]
  },
  {
   "cell_type": "code",
   "execution_count": 2,
   "metadata": {},
   "outputs": [
    {
     "name": "stdout",
     "output_type": "stream",
     "text": [
      "[[[0. 0.]\n",
      "  [0. 1.]]\n",
      "\n",
      " [[0. 0.]\n",
      "  [0. 0.]]]\n"
     ]
    }
   ],
   "source": [
    "M=randomAlgebra(1,1)\n",
    "print(M)"
   ]
  },
  {
   "cell_type": "markdown",
   "metadata": {},
   "source": [
    "Now, we define a function that, given (the constants matrix of) and algebra, computes the oracle that will mark those pairs of elements that do not commute."
   ]
  },
  {
   "cell_type": "code",
   "execution_count": 3,
   "metadata": {
    "collapsed": true
   },
   "outputs": [],
   "source": [
    "def oracle(M):\n",
    "    n = M.shape[0]\n",
    "    O = np.zeros((n,n,n))\n",
    "    for i in range(n):\n",
    "        for j in range(n):\n",
    "            for k in range(n):\n",
    "                if M[i,j,k]!=M[j,i,k]:\n",
    "                    O[i,j,k]=1\n",
    "    return O"
   ]
  },
  {
   "cell_type": "markdown",
   "metadata": {},
   "source": [
    "This is the oracle for algebra $M$"
   ]
  },
  {
   "cell_type": "code",
   "execution_count": 4,
   "metadata": {},
   "outputs": [
    {
     "name": "stdout",
     "output_type": "stream",
     "text": [
      "[[[0. 0.]\n",
      "  [0. 1.]]\n",
      "\n",
      " [[0. 1.]\n",
      "  [0. 0.]]]\n"
     ]
    }
   ],
   "source": [
    "O=oracle(M)\n",
    "print(O)"
   ]
  },
  {
   "cell_type": "markdown",
   "metadata": {},
   "source": [
    "We construct a Ising model in order to find the non-commuting pairs of the matrix"
   ]
  },
  {
   "cell_type": "code",
   "execution_count": 5,
   "metadata": {
    "collapsed": true
   },
   "outputs": [],
   "source": [
    "def Ising(O):\n",
    "    J ={}\n",
    "    n = O.shape[0]\n",
    "    for i in range(n):\n",
    "        for j in range(i):\n",
    "            for k in range(n):\n",
    "                if O[i,j,k]==1:\n",
    "                    J[(i,j)]=1\n",
    "                    break\n",
    "    return J"
   ]
  },
  {
   "cell_type": "markdown",
   "metadata": {},
   "source": [
    "These are the coefficients for our case"
   ]
  },
  {
   "cell_type": "code",
   "execution_count": 6,
   "metadata": {},
   "outputs": [
    {
     "name": "stdout",
     "output_type": "stream",
     "text": [
      "{(1, 0): 1}\n"
     ]
    }
   ],
   "source": [
    "J=Ising(O)\n",
    "print(J)"
   ]
  },
  {
   "cell_type": "markdown",
   "metadata": {},
   "source": [
    "We instantiate the model. Notice that the coefficients for individual spins (the $h$) are all 0"
   ]
  },
  {
   "cell_type": "code",
   "execution_count": 7,
   "metadata": {},
   "outputs": [
    {
     "name": "stdout",
     "output_type": "stream",
     "text": [
      "BinaryQuadraticModel({1: 0, 0: 0}, {(1, 0): 1}, 0.0, Vartype.SPIN)\n"
     ]
    }
   ],
   "source": [
    "import dimod\n",
    "\n",
    "h = {}\n",
    "model = dimod.BinaryQuadraticModel(h, J, 0.0, dimod.SPIN)\n",
    "\n",
    "print(model)"
   ]
  },
  {
   "cell_type": "markdown",
   "metadata": {},
   "source": [
    "We can solve this model exactly"
   ]
  },
  {
   "cell_type": "code",
   "execution_count": 8,
   "metadata": {},
   "outputs": [
    {
     "name": "stdout",
     "output_type": "stream",
     "text": [
      "    0   1  energy  num_occ.\n",
      "0  +1  -1    -1.0         1\n",
      "1  -1  +1    -1.0         1\n",
      "2  -1  -1     1.0         1\n",
      "3  +1  +1     1.0         1\n",
      "\n",
      "[ 4 rows, 2 variables ]\n"
     ]
    }
   ],
   "source": [
    "from dimod.reference.samplers import ExactSolver\n",
    "sampler = ExactSolver()\n",
    "solution = sampler.sample(model)\n",
    "print(solution)"
   ]
  },
  {
   "cell_type": "markdown",
   "metadata": {},
   "source": [
    "Or with simulated annealing"
   ]
  },
  {
   "cell_type": "code",
   "execution_count": 9,
   "metadata": {},
   "outputs": [
    {
     "name": "stdout",
     "output_type": "stream",
     "text": [
      "    1   0  energy  num_occ.\n",
      "0  -1  +1    -1.0         1\n",
      "1  +1  -1    -1.0         1\n",
      "2  -1  +1    -1.0         1\n",
      "3  +1  -1    -1.0         1\n",
      "4  -1  +1    -1.0         1\n",
      "5  +1  -1    -1.0         1\n",
      "6  +1  -1    -1.0         1\n",
      "7  -1  +1    -1.0         1\n",
      "8  -1  +1    -1.0         1\n",
      "9  +1  -1    -1.0         1\n",
      "\n",
      "[ 10 rows, 2 variables ]\n"
     ]
    }
   ],
   "source": [
    "sampler = dimod.SimulatedAnnealingSampler()\n",
    "response = sampler.sample(model, num_reads=10)\n",
    "print(response)"
   ]
  },
  {
   "cell_type": "markdown",
   "metadata": {},
   "source": [
    "And, of course, also using D-Wave's quantum annealer "
   ]
  },
  {
   "cell_type": "code",
   "execution_count": 10,
   "metadata": {},
   "outputs": [
    {
     "name": "stdout",
     "output_type": "stream",
     "text": [
      "    1   0  energy  num_occ.  chain_b.\n",
      "0  +1  -1    -1.0      2329       0.0\n",
      "1  -1  +1    -1.0      2664       0.0\n",
      "2  -1  -1     1.0         4       0.0\n",
      "3  +1  +1     1.0         3       0.0\n",
      "\n",
      "[ 4 rows, 2 variables ]\n"
     ]
    }
   ],
   "source": [
    "from dwave.system.samplers import DWaveSampler\n",
    "from dwave.system.composites import EmbeddingComposite\n",
    "sampler = EmbeddingComposite(DWaveSampler())\n",
    "response = sampler.sample(model, num_reads=5000)\n",
    "print(response)"
   ]
  },
  {
   "cell_type": "code",
   "execution_count": null,
   "metadata": {
    "collapsed": true
   },
   "outputs": [],
   "source": []
  }
 ],
 "metadata": {
  "kernelspec": {
   "display_name": "Python 3",
   "language": "python",
   "name": "python3"
  },
  "language_info": {
   "codemirror_mode": {
    "name": "ipython",
    "version": 3
   },
   "file_extension": ".py",
   "mimetype": "text/x-python",
   "name": "python",
   "nbconvert_exporter": "python",
   "pygments_lexer": "ipython3",
   "version": "3.6.8"
  }
 },
 "nbformat": 4,
 "nbformat_minor": 2
}
